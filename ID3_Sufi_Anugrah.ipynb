{
  "nbformat": 4,
  "nbformat_minor": 0,
  "metadata": {
    "colab": {
      "provenance": []
    },
    "kernelspec": {
      "name": "python3",
      "display_name": "Python 3"
    },
    "language_info": {
      "name": "python"
    }
  },
  "cells": [
    {
      "cell_type": "code",
      "execution_count": null,
      "metadata": {
        "id": "OY-NM_-ek3be"
      },
      "outputs": [],
      "source": [
        "import pandas as pd\n",
        "import numpy as np\n",
        "from collections import Counter\n",
        "import math"
      ]
    },
    {
      "cell_type": "code",
      "source": [
        "df = pd.read_csv('path/to/your/ID3_example.csv')"
      ],
      "metadata": {
        "id": "6-70hLhsk62K"
      },
      "execution_count": null,
      "outputs": []
    },
    {
      "cell_type": "code",
      "source": [
        "def entropy(labels):\n",
        "    counts = Counter(labels)\n",
        "    total = len(labels)\n",
        "    return -sum((count/total) * math.log2(count/total) for count in counts.values())"
      ],
      "metadata": {
        "id": "gmznZB2Gk64k"
      },
      "execution_count": null,
      "outputs": []
    },
    {
      "cell_type": "code",
      "source": [
        "def information_gain(df, feature, target):\n",
        "    total_entropy = entropy(df[target])\n",
        "    values = df[feature].unique()\n",
        "    weighted_entropy = sum((len(df[df[feature] == value]) / len(df)) * entropy(df[df[feature] == value][target]) for value in values)\n",
        "    return total_entropy - weighted_entropy"
      ],
      "metadata": {
        "id": "8Kd947FGk67G"
      },
      "execution_count": null,
      "outputs": []
    },
    {
      "cell_type": "code",
      "source": [
        "class Node:\n",
        "    def __init__(self, feature=None, value=None, is_leaf=False, prediction=None):\n",
        "        self.feature = feature\n",
        "        self.value = value\n",
        "        self.is_leaf = is_leaf\n",
        "        self.prediction = prediction\n",
        "        self.children = []\n",
        "\n",
        "def id3(df, features, target):\n",
        "    labels = df[target]\n",
        "    if len(set(labels)) == 1:\n",
        "        return Node(is_leaf=True, prediction=labels.iloc[0])\n",
        "    if not features:\n",
        "        return Node(is_leaf=True, prediction=labels.mode()[0])\n",
        "\n",
        "    gains = [(feature, information_gain(df, feature, target)) for feature in features]\n",
        "    best_feature, best_gain = max(gains, key=lambda x: x[1])\n",
        "\n",
        "    root = Node(feature=best_feature)\n",
        "    for value in df[best_feature].unique():\n",
        "        subset = df[df[best_feature] == value]\n",
        "        if subset.empty:\n",
        "            continue\n",
        "        child = id3(subset, [f for f in features if f != best_feature], target)\n",
        "        child.value = value\n",
        "        root.children.append(child)\n",
        "\n",
        "    return root"
      ],
      "metadata": {
        "id": "P42KbQQ-k6c2"
      },
      "execution_count": null,
      "outputs": []
    },
    {
      "cell_type": "code",
      "source": [
        "from sklearn.model_selection import train_test_split\n",
        "from sklearn.metrics import accuracy_score\n",
        "\n",
        "train_df, test_df = train_test_split(df, test_size=0.2)\n",
        "\n",
        "features = list(train_df.columns)\n",
        "features.remove('target')\n",
        "tree = id3(train_df, features, 'target')\n",
        "\n",
        "def predict(node, sample):\n",
        "    if node.is_leaf:\n",
        "        return node.prediction\n",
        "    feature_value = sample[node.feature]\n",
        "    for child in node.children:\n",
        "        if child.value == feature_value:\n",
        "            return predict(child, sample)\n",
        "    return None\n",
        "\n",
        "predictions = test_df.apply(lambda x: predict(tree, x), axis=1)\n",
        "accuracy = accuracy_score(test_df['target'], predictions)\n",
        "print(f'Akurasi: {accuracy}')"
      ],
      "metadata": {
        "id": "LPAFcW3ClDii"
      },
      "execution_count": null,
      "outputs": []
    }
  ]
}